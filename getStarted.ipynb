{
 "cells": [
  {
   "cell_type": "code",
   "execution_count": 3,
   "metadata": {},
   "outputs": [
    {
     "name": "stdout",
     "output_type": "stream",
     "text": [
      "30\n"
     ]
    }
   ],
   "source": [
    "myFirstInteger = 30\n",
    "\n",
    "print(myFirstInteger)"
   ]
  },
  {
   "cell_type": "code",
   "execution_count": 12,
   "metadata": {},
   "outputs": [
    {
     "name": "stdout",
     "output_type": "stream",
     "text": [
      "30\n",
      "0.42857142857142855\n",
      "1.0\n",
      "3\n",
      "27\n",
      "3\n",
      "2\n"
     ]
    }
   ],
   "source": [
    "print(myFirstInteger)\n",
    "print(3/7)\n",
    "print(4/4)\n",
    "print(1+2)\n",
    "print(3**3) #Potenzieren\n",
    "print(17//5) #Teilen Ergebnis ist Ganzzahl\n",
    "print(17%5) #Teilen: Ergebnis ist Rest"
   ]
  },
  {
   "cell_type": "code",
   "execution_count": 34,
   "metadata": {},
   "outputs": [
    {
     "name": "stdout",
     "output_type": "stream",
     "text": [
      "25\n"
     ]
    }
   ],
   "source": [
    "I1 = 15\n",
    "I2 = 10\n",
    "print(I1+I2)\n",
    "e = I1-I2\n"
   ]
  },
  {
   "cell_type": "code",
   "execution_count": 35,
   "metadata": {},
   "outputs": [
    {
     "data": {
      "text/plain": [
       "5"
      ]
     },
     "execution_count": 35,
     "metadata": {},
     "output_type": "execute_result"
    }
   ],
   "source": [
    "e"
   ]
  },
  {
   "cell_type": "code",
   "execution_count": 45,
   "metadata": {},
   "outputs": [
    {
     "name": "stdout",
     "output_type": "stream",
     "text": [
      "62\n",
      "103490582486856\n"
     ]
    }
   ],
   "source": [
    "age = 42\n",
    "age = age + 10 #2. Zeile bewirkt das gleiche wie in 3. Zeile\n",
    "age += 10\n",
    "print(age)\n",
    "age++1\n",
    "print(id(age)) #fügt die Adresse des Speichers aus, nicht den Inhalt"
   ]
  },
  {
   "cell_type": "code",
   "execution_count": 54,
   "metadata": {},
   "outputs": [
    {
     "name": "stdout",
     "output_type": "stream",
     "text": [
      "123297058511488\n",
      "{4, 5, 6}\n",
      "{5, 6}\n",
      "123297058511488\n"
     ]
    }
   ],
   "source": [
    "myList = set() #Erstellen einer Liste\n",
    "print(id(myList))\n",
    "myList.add(4)\n",
    "myList.add(5)\n",
    "myList.add(6)\n",
    "print(myList)\n",
    "myList.remove(4)\n",
    "print(myList)\n",
    "print(id(myList))"
   ]
  },
  {
   "cell_type": "code",
   "execution_count": 62,
   "metadata": {},
   "outputs": [
    {
     "name": "stdout",
     "output_type": "stream",
     "text": [
      "1\n",
      "1.75\n",
      "3,41kmh\n"
     ]
    }
   ],
   "source": [
    "t1 = int(1.75) #man kriegt nur ganze Zahlen, also in Praxis Komma abschneiden\n",
    "print(t1)\n",
    "t1 = 1.75\n",
    "print(t1)\n",
    "t1 = \"3,41\"+\"kmh\" #Zeichenkette, keine Tahlen mehr\n",
    "print(t1)"
   ]
  },
  {
   "cell_type": "code",
   "execution_count": 65,
   "metadata": {},
   "outputs": [
    {
     "name": "stdout",
     "output_type": "stream",
     "text": [
      "22\n",
      "65635\n"
     ]
    }
   ],
   "source": [
    "t2 = int(\"10110\", base=2)\n",
    "print(t2)\n",
    "t2 = int(\"FFFF\", base=16) #0 1 2 3 4 5 6 7 8 9A B  C  D  E  F\n",
    "                        #0 1 2 3 4 5 6 7 8 9 10 11 12 13 14 15\n",
    "t2=t2+100\n",
    "print(t2)\n"
   ]
  },
  {
   "cell_type": "code",
   "execution_count": 67,
   "metadata": {},
   "outputs": [
    {
     "data": {
      "text/plain": [
       "sys.float_info(max=1.7976931348623157e+308, max_exp=1024, max_10_exp=308, min=2.2250738585072014e-308, min_exp=-1021, min_10_exp=-307, dig=15, mant_dig=53, epsilon=2.220446049250313e-16, radix=2, rounds=1)"
      ]
     },
     "execution_count": 67,
     "metadata": {},
     "output_type": "execute_result"
    }
   ],
   "source": [
    "import sys\n",
    "\n",
    "sys.float_info"
   ]
  },
  {
   "cell_type": "code",
   "execution_count": 70,
   "metadata": {},
   "outputs": [
    {
     "name": "stdout",
     "output_type": "stream",
     "text": [
      "True\n"
     ]
    }
   ],
   "source": [
    "print(0.3-(0.1*3) <= 0.1)"
   ]
  },
  {
   "cell_type": "code",
   "execution_count": 78,
   "metadata": {},
   "outputs": [
    {
     "name": "stdout",
     "output_type": "stream",
     "text": [
      "1\n",
      "0\n",
      "True\n",
      "False\n",
      "True\n",
      "True\n",
      "False\n",
      "True\n",
      "True\n",
      "False\n",
      "True\n"
     ]
    }
   ],
   "source": [
    "print(int(True)) #false=0, true ungleich 0\n",
    "print(int(False))\n",
    "print(bool(1))\n",
    "print(bool(0))\n",
    "print(bool(-10))\n",
    "print(bool(10))\n",
    "\n",
    "print(not True)\n",
    "print(not False)\n",
    "print(True or False)\n",
    "print(True and False)\n",
    "print(True and True)\n"
   ]
  },
  {
   "cell_type": "code",
   "execution_count": 81,
   "metadata": {},
   "outputs": [
    {
     "name": "stdout",
     "output_type": "stream",
     "text": [
      "3.14\n",
      "2.73\n",
      "(3.14-2.73j)\n"
     ]
    }
   ],
   "source": [
    "c=complex(3.14,2.73)\n",
    "print(c.real)\n",
    "print(c.imag)\n",
    "print(c.conjugate())\n"
   ]
  },
  {
   "cell_type": "code",
   "execution_count": 84,
   "metadata": {},
   "outputs": [
    {
     "name": "stdout",
     "output_type": "stream",
     "text": [
      "Hallo \n",
      " Welt\n"
     ]
    }
   ],
   "source": [
    "str= \"Hallo \\n Welt\"\n",
    "str1='Hallo Welt'\n",
    "str2=\"\"\"Hallo\n",
    "\n",
    "Welt\"\"\"\n",
    "str3='''Hallo\n",
    "\n",
    "Welt'''\n",
    "print(str)\n"
   ]
  }
 ],
 "metadata": {
  "kernelspec": {
   "display_name": "Python 3",
   "language": "python",
   "name": "python3"
  },
  "language_info": {
   "codemirror_mode": {
    "name": "ipython",
    "version": 3
   },
   "file_extension": ".py",
   "mimetype": "text/x-python",
   "name": "python",
   "nbconvert_exporter": "python",
   "pygments_lexer": "ipython3",
   "version": "3.12.1"
  }
 },
 "nbformat": 4,
 "nbformat_minor": 2
}
